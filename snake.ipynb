{
 "cells": [
  {
   "cell_type": "code",
   "execution_count": 1,
   "metadata": {},
   "outputs": [],
   "source": [
    "import queue\n",
    "import random\n",
    "import numpy as np\n",
    "import tensorflow as tf\n",
    "from tensorflow import keras\n",
    "import gym\n",
    "# prints a random value from the list\n"
   ]
  },
  {
   "cell_type": "code",
   "execution_count": 24,
   "metadata": {},
   "outputs": [
    {
     "name": "stdout",
     "output_type": "stream",
     "text": [
      "Collecting pygame\n",
      "  Downloading pygame-2.1.2-cp38-cp38-win_amd64.whl (8.4 MB)\n",
      "Installing collected packages: pygame\n",
      "Successfully installed pygame-2.1.2\n"
     ]
    }
   ],
   "source": [
    "!pip install --user pygame"
   ]
  },
  {
   "cell_type": "code",
   "execution_count": 2,
   "metadata": {},
   "outputs": [
    {
     "name": "stderr",
     "output_type": "stream",
     "text": [
      "C:\\ProgramData\\Anaconda3\\lib\\site-packages\\ipykernel\\ipkernel.py:287: DeprecationWarning: `should_run_async` will not call `transform_cell` automatically in the future. Please pass the result to `transformed_cell` argument and any exception that happen during thetransform in `preprocessing_exc_tuple` in IPython 7.17 and above.\n",
      "  and should_run_async(code)\n"
     ]
    }
   ],
   "source": [
    "nb_action=4"
   ]
  },
  {
   "cell_type": "code",
   "execution_count": 14,
   "metadata": {},
   "outputs": [],
   "source": [
    "from  tensorflow.keras import layers\n",
    "\n",
    "def build_model():\n",
    "    model = keras.Sequential()\n",
    "    # Ajouter des couches au modèle\n",
    "    model.add(layers.Dense(50,input_shape=(1,nb_action,), activation=\"relu\"))\n",
    "    model.add(layers.Dense(20, activation=\"relu\"))\n",
    "    model.add(layers.Dense(50, activation=\"relu\"))\n",
    "    model.add(layers.Dense(nb_action, activation=\"softmax\"))\n",
    "    model.add(layers.Flatten())\n",
    "    return model\n",
    "# Compiler le modèle\n"
   ]
  },
  {
   "cell_type": "code",
   "execution_count": 15,
   "metadata": {},
   "outputs": [],
   "source": [
    "model=build_model()"
   ]
  },
  {
   "cell_type": "code",
   "execution_count": 4,
   "metadata": {},
   "outputs": [],
   "source": [
    "class Snake:\n",
    "    \n",
    "    \n",
    "\n",
    "    def __init__(self):\n",
    "        \n",
    "        self.nb_action=4\n",
    "        self.grid_size={\"x\":10,\"y\":10}\n",
    "        self.grid=np.array([[0]*self.grid_size.get(\"y\")]*self.grid_size.get(\"x\")) #0=empty,1=body,2=head,3=cherry\n",
    "        \n",
    "        self.cherry_pos={\"x\":random.randrange(self.grid_size.get(\"x\")-1),\"y\":random.randrange(self.grid_size.get(\"y\")-1)}\n",
    "        self.grid[self.cherry_pos.get(\"y\"),self.cherry_pos.get(\"x\")]=3\n",
    "        print(\"self.cherry_pos: \"+str(self.cherry_pos))\n",
    "        self.nb_inputs=self.grid_size.get(\"x\")*self.grid_size.get(\"y\")\n",
    "        self.new_head_pos={\"x\":0,\"y\":0}\n",
    "        self.list_body_pos=[{\"x\":random.randrange(self.grid_size.get(\"x\")-1),\"y\":random.randrange(self.grid_size.get(\"y\")-1)},]\n",
    "        #self.list_body_pos=[{\"x\":9,\"y\":9},{\"x\":0,\"y\":0}]\n",
    "        print(\"self.list_body_pos: \"+str(self.list_body_pos))\n",
    "        self.grid[self.list_body_pos[0].get(\"y\"),self.list_body_pos[0].get(\"x\")]=2\n",
    "        \n",
    "        self.cherry_pos={\"x\":0,\"y\":0}\n",
    "\n",
    "\n",
    "\n",
    "    def move(self,direction):\n",
    "        print(\"self.new_head_pos: \"+str(self.new_head_pos))\n",
    "        self.new_head_pos[\"x\"]=self.list_body_pos[0].get(\"x\")\n",
    "        self.new_head_pos[\"y\"]=self.list_body_pos[0].get(\"y\")\n",
    "        if direction==0:\n",
    "            self.new_head_pos[\"x\"]=self.list_body_pos[0].get(\"x\")+1\n",
    "        if direction==1:\n",
    "            self.new_head_pos[\"y\"]=self.list_body_pos[0].get(\"y\")-1\n",
    "        if direction==2:\n",
    "            self.new_head_pos[\"x\"]=self.list_body_pos[0].get(\"x\")-1\n",
    "        if direction==3:\n",
    "            self.new_head_pos[\"y\"]=self.list_body_pos[0].get(\"y\")+1\n",
    "        self.react()\n",
    "\n",
    "\n",
    "\n",
    "\n",
    "    def react(self):\n",
    "        print(\"self.new_head_pos: \"+str(self.new_head_pos))\n",
    "        print(\"self.list_body_pos: \"+str(self.list_body_pos))\n",
    "        if self.new_head_pos.get(\"y\")<0:\n",
    "            print(\"fail\")\n",
    "            return 0\n",
    "        if self.new_head_pos.get(\"x\")<0:\n",
    "            print(\"fail\")\n",
    "            return 0\n",
    "        if self.new_head_pos.get(\"y\")>=self.grid_size.get(\"y\"):\n",
    "            print(\"fail\")\n",
    "            return 0\n",
    "        if self.new_head_pos.get(\"x\")>=self.grid_size.get(\"x\"):\n",
    "            print(\"fail\")\n",
    "            return 0\n",
    "        if self.new_head_pos in self.list_body_pos:\n",
    "            print(\"fail\")\n",
    "            return 0\n",
    "        self.list_body_pos.insert(0,{\"x\":self.new_head_pos.get(\"x\"),\"y\":self.new_head_pos.get(\"y\")})#advance\n",
    "        \n",
    "\n",
    "        self.grid[self.list_body_pos[1].get(\"y\"),self.list_body_pos[1].get(\"x\")]=1\n",
    "        print(\"self.new_head_pos: \"+str(self.new_head_pos))\n",
    "        print(\"self.cherry_pos: \"+str(self.cherry_pos))\n",
    "        if False:#self.new_head_pos!=self.cherry_pos:\n",
    "            print(\"pas cherry\")\n",
    "            print(\"self.list_body_pos[-1]: \"+str(self.list_body_pos[-1]))\n",
    "            popped=self.list_body_pos.pop(-1)                       #remove tail\n",
    "            self.grid[popped.get(\"y\"),popped.get(\"x\")]=0  \n",
    "            \n",
    "        else:\n",
    "            print(\"cherry\")\n",
    "            if len(self.list_body_pos) >= 10:\n",
    "                print(\"win\")\n",
    "                return 1\n",
    "            self.cherry_pos[\"x\"]=random.randrange(self.grid_size.get(\"x\")-1)\n",
    "            i=0\n",
    "            while i < 999:\n",
    "                i+=1\n",
    "                self.cherry_pos[\"x\"]=random.randrange(self.grid_size.get(\"x\")-1) #new postion for cherry\n",
    "                self.cherry_pos[\"y\"]=random.randrange(self.grid_size.get(\"y\")-1)\n",
    "                if self.cherry_pos not in self.list_body_pos:\n",
    "                    self.grid[self.cherry_pos.get(\"y\"),self.cherry_pos.get(\"x\")]=3\n",
    "                    break\n",
    "                    \n",
    "                    \n",
    "        self.grid[self.new_head_pos.get(\"y\"),self.new_head_pos.get(\"x\")]=2\n",
    "            #ask_input(grid.flatten())\n"
   ]
  },
  {
   "cell_type": "code",
   "execution_count": 138,
   "metadata": {},
   "outputs": [
    {
     "name": "stdout",
     "output_type": "stream",
     "text": [
      "self.cherry_pos: {'x': 5, 'y': 0}\n",
      "self.list_body_pos: [{'x': 4, 'y': 3}]\n",
      "[[0 0 0 0 0 3 0 0 0 0]\n",
      " [0 0 0 0 0 0 0 0 0 0]\n",
      " [0 0 0 0 0 0 0 0 0 0]\n",
      " [0 0 0 0 2 0 0 0 0 0]\n",
      " [0 0 0 0 0 0 0 0 0 0]\n",
      " [0 0 0 0 0 0 0 0 0 0]\n",
      " [0 0 0 0 0 0 0 0 0 0]\n",
      " [0 0 0 0 0 0 0 0 0 0]\n",
      " [0 0 0 0 0 0 0 0 0 0]\n",
      " [0 0 0 0 0 0 0 0 0 0]]\n"
     ]
    }
   ],
   "source": [
    "snake=Snake()\n",
    "\n",
    "print(snake.grid)"
   ]
  },
  {
   "cell_type": "code",
   "execution_count": 2,
   "metadata": {},
   "outputs": [
    {
     "name": "stdout",
     "output_type": "stream",
     "text": [
      "Collecting keras-rl\n",
      "  Downloading https://files.pythonhosted.org/packages/ab/87/4b57eff8e4bd834cea0a75cd6c58198c9e42be29b600db9c14fafa72ec07/keras-rl-0.4.2.tar.gz (40kB)\n",
      "Requirement already satisfied: keras>=2.0.7 in c:\\users\\philg\\appdata\\roaming\\python\\python37\\site-packages (from keras-rl) (2.8.0)\n",
      "Building wheels for collected packages: keras-rl\n",
      "  Building wheel for keras-rl (setup.py): started\n",
      "  Building wheel for keras-rl (setup.py): finished with status 'done'\n",
      "  Created wheel for keras-rl: filename=keras_rl-0.4.2-cp37-none-any.whl size=48385 sha256=dfa302e0c62f13a3d64450c96f5b3e78f842ab915b895faf6bbb6937affdb4a6\n",
      "  Stored in directory: C:\\Users\\philg\\AppData\\Local\\pip\\Cache\\wheels\\7d\\4d\\84\\9254c9f2e8f51865cb0dac8e79da85330c735551d31f73c894\n",
      "Successfully built keras-rl\n",
      "Installing collected packages: keras-rl\n",
      "Successfully installed keras-rl-0.4.2\n"
     ]
    }
   ],
   "source": []
  },
  {
   "cell_type": "code",
   "execution_count": 149,
   "metadata": {},
   "outputs": [
    {
     "name": "stdout",
     "output_type": "stream",
     "text": [
      "[[3 3 0 0 3 3 0 3 0 0]\n",
      " [0 3 3 3 3 0 3 3 3 0]\n",
      " [0 0 3 3 3 3 3 3 3 0]\n",
      " [3 3 3 0 1 1 1 1 1 1]\n",
      " [0 0 3 3 0 0 3 0 3 1]\n",
      " [0 3 0 0 0 3 3 3 3 1]\n",
      " [3 3 3 3 0 0 0 3 3 1]\n",
      " [0 3 3 0 3 0 3 3 0 1]\n",
      " [3 3 3 3 0 3 3 3 0 2]\n",
      " [0 0 0 0 0 0 0 0 0 0]]\n",
      "Entrez coup: 3\n",
      "self.new_head_pos: {'x': 9, 'y': 8}\n",
      "self.new_head_pos: {'x': 9, 'y': 9}\n",
      "self.list_body_pos: [{'x': 9, 'y': 8}, {'x': 9, 'y': 7}, {'x': 9, 'y': 6}, {'x': 9, 'y': 5}, {'x': 9, 'y': 4}, {'x': 9, 'y': 3}, {'x': 8, 'y': 3}, {'x': 7, 'y': 3}, {'x': 6, 'y': 3}, {'x': 5, 'y': 3}, {'x': 4, 'y': 3}]\n",
      "self.new_head_pos: {'x': 9, 'y': 9}\n",
      "self.cherry_pos: {'x': 2, 'y': 2}\n",
      "cherry\n",
      "0\n",
      "test\n",
      "1\n",
      "test\n",
      "test\n",
      "2\n",
      "test\n",
      "3\n",
      "test\n",
      "4\n",
      "test\n",
      "5\n",
      "test\n",
      "6\n",
      "test\n",
      "7\n",
      "test\n",
      "8\n",
      "test\n",
      "9\n",
      "test\n",
      "test\n",
      "[[3 3 3 0 3 3 0 3 3 0]\n",
      " [0 3 3 3 3 3 3 3 3 0]\n",
      " [0 0 3 3 3 3 3 3 3 0]\n",
      " [3 3 3 0 1 1 1 1 1 1]\n",
      " [0 0 3 3 0 0 3 0 3 1]\n",
      " [0 3 0 0 3 3 3 3 3 1]\n",
      " [3 3 3 3 0 3 0 3 3 1]\n",
      " [0 3 3 0 3 0 3 3 0 1]\n",
      " [3 3 3 3 0 3 3 3 0 1]\n",
      " [0 0 0 0 0 0 0 0 0 2]]\n"
     ]
    }
   ],
   "source": [
    "print(snake.grid)\n",
    "ans=int(input(\"Entrez coup: \"))\n",
    "snake.move(ans)\n",
    "print(snake.grid)"
   ]
  },
  {
   "cell_type": "code",
   "execution_count": 18,
   "metadata": {},
   "outputs": [],
   "source": [
    "class GridWorldEnv(gym.Env):\n",
    "    \n",
    "\n",
    "    def __init__(self):\n",
    "        \n",
    "        self.nb_action=4\n",
    "        self.grid_size={\"x\":10,\"y\":10}\n",
    "\n",
    "\n",
    "    def step(self,direction):\n",
    "        print(\"self.new_head_pos: \"+str(self.new_head_pos))\n",
    "        self.new_head_pos[\"x\"]=self.list_body_pos[0].get(\"x\")\n",
    "        self.new_head_pos[\"y\"]=self.list_body_pos[0].get(\"y\")\n",
    "        if direction==0:\n",
    "            self.new_head_pos[\"x\"]=self.list_body_pos[0].get(\"x\")+1\n",
    "        if direction==1:\n",
    "            self.new_head_pos[\"y\"]=self.list_body_pos[0].get(\"y\")-1\n",
    "        if direction==2:\n",
    "            self.new_head_pos[\"x\"]=self.list_body_pos[0].get(\"x\")-1\n",
    "        if direction==3:\n",
    "            self.new_head_pos[\"y\"]=self.list_body_pos[0].get(\"y\")+1\n",
    "        return self.react()\n",
    "\n",
    "\n",
    "\n",
    "\n",
    "    def react(self):\n",
    "        done=False\n",
    "        reward=0\n",
    "        print(\"self.new_head_pos: \"+str(self.new_head_pos))\n",
    "        print(\"self.list_body_pos: \"+str(self.list_body_pos))\n",
    "        if self.new_head_pos.get(\"y\")<0:\n",
    "            print(\"fail\")\n",
    "            done = True\n",
    "        if self.new_head_pos.get(\"x\")<0:\n",
    "            print(\"fail\")\n",
    "            done = True\n",
    "        if self.new_head_pos.get(\"y\")>=self.grid_size.get(\"y\"):\n",
    "            print(\"fail\")\n",
    "            done = True\n",
    "        if self.new_head_pos.get(\"x\")>=self.grid_size.get(\"x\"):\n",
    "            print(\"fail\")\n",
    "            done = True\n",
    "        if self.new_head_pos in self.list_body_pos:\n",
    "            print(\"fail\")\n",
    "            done = True\n",
    "        self.list_body_pos.insert(0,{\"x\":self.new_head_pos.get(\"x\"),\"y\":self.new_head_pos.get(\"y\")})#advance\n",
    "        \n",
    "\n",
    "        self.grid[self.list_body_pos[1].get(\"y\"),self.list_body_pos[1].get(\"x\")]=1\n",
    "        print(\"self.new_head_pos: \"+str(self.new_head_pos))\n",
    "        print(\"self.cherry_pos: \"+str(self.cherry_pos))\n",
    "        if elf.new_head_pos!=self.cherry_pos:\n",
    "            print(\"pas cherry\")\n",
    "            print(\"self.list_body_pos[-1]: \"+str(self.list_body_pos[-1]))\n",
    "            popped=self.list_body_pos.pop(-1)                       #remove tail\n",
    "            self.grid[popped.get(\"y\"),popped.get(\"x\")]=0  \n",
    "            \n",
    "        else:\n",
    "            print(\"cherry\")\n",
    "            reward=1\n",
    "            if len(self.list_body_pos) >= 10:\n",
    "                print(\"win\")\n",
    "                done=True\n",
    "            self.cherry_pos[\"x\"]=random.randrange(self.grid_size.get(\"x\")-1)\n",
    "            i=0\n",
    "            while i < 999:\n",
    "                i+=1\n",
    "                self.cherry_pos[\"x\"]=random.randrange(self.grid_size.get(\"x\")-1) #new postion for cherry\n",
    "                self.cherry_pos[\"y\"]=random.randrange(self.grid_size.get(\"y\")-1)\n",
    "                if self.cherry_pos not in self.list_body_pos:\n",
    "                    self.grid[self.cherry_pos.get(\"y\"),self.cherry_pos.get(\"x\")]=3\n",
    "                    break\n",
    "                               \n",
    "        self.grid[self.new_head_pos.get(\"y\"),self.new_head_pos.get(\"x\")]=2\n",
    "        \n",
    "        observation = self._get_obs()\n",
    "        info = self._get_info()\n",
    "        return observation, reward, done, info\n",
    "        \n",
    "    def _get_obs(self):\n",
    "            return self.grid.flatten()\n",
    "        \n",
    "    def _get_info(self):\n",
    "        return {}\n",
    "            \n",
    "    def reset(self, seed=None, return_info=False, options=None):\n",
    "        self.grid=np.array([[0]*self.grid_size.get(\"y\")]*self.grid_size.get(\"x\")) #0=empty,1=body,2=head,3=cherry  \n",
    "        self.cherry_pos={\"x\":random.randrange(self.grid_size.get(\"x\")-1),\"y\":random.randrange(self.grid_size.get(\"y\")-1)}\n",
    "        self.grid[self.cherry_pos.get(\"y\"),self.cherry_pos.get(\"x\")]=3\n",
    "        print(\"self.cherry_pos: \"+str(self.cherry_pos))\n",
    "        self.nb_inputs=self.grid_size.get(\"x\")*self.grid_size.get(\"y\")\n",
    "        self.new_head_pos={\"x\":0,\"y\":0}\n",
    "        self.list_body_pos=[{\"x\":random.randrange(self.grid_size.get(\"x\")-1),\"y\":random.randrange(self.grid_size.get(\"y\")-1)},]\n",
    "        print(\"self.list_body_pos: \"+str(self.list_body_pos))\n",
    "        self.grid[self.list_body_pos[0].get(\"y\"),self.list_body_pos[0].get(\"x\")]=2\n",
    "        self.cherry_pos={\"x\":0,\"y\":0}\n",
    "            \n",
    "            \n",
    "        observation = self._get_obs()\n",
    "        info = self._get_info()\n",
    "\n",
    "        return (observation, info) if return_info else observation\n",
    "        \n",
    "     "
   ]
  },
  {
   "cell_type": "code",
   "execution_count": 19,
   "metadata": {},
   "outputs": [],
   "source": [
    "env = GridWorldEnv()"
   ]
  },
  {
   "cell_type": "code",
   "execution_count": 20,
   "metadata": {},
   "outputs": [],
   "source": [
    "\n",
    "from rl.agents import DQNAgent\n",
    "from rl.policy import BoltzmannQPolicy\n",
    "from rl.memory import SequentialMemory\n"
   ]
  },
  {
   "cell_type": "code",
   "execution_count": 21,
   "metadata": {},
   "outputs": [],
   "source": [
    "def build_agent(model, actions):\n",
    "    policy = BoltzmannQPolicy()\n",
    "    memory = SequentialMemory(limit=50000, window_length=1)\n",
    "    dqn = DQNAgent(model=model, memory=memory, policy=policy, \n",
    "                  nb_actions=4, nb_steps_warmup=10, target_model_update=1e-2)\n",
    "    return dqn\n",
    "\n"
   ]
  },
  {
   "cell_type": "code",
   "execution_count": 22,
   "metadata": {},
   "outputs": [
    {
     "ename": "TypeError",
     "evalue": "Keras symbolic inputs/outputs do not implement `__len__`. You may be trying to pass Keras symbolic inputs/outputs to a TF API that does not register dispatching, preventing Keras from automatically converting the API call to a lambda layer in the Functional Model. This error will also get raised if you try asserting a symbolic input/output directly.",
     "output_type": "error",
     "traceback": [
      "\u001b[1;31m---------------------------------------------------------------------------\u001b[0m",
      "\u001b[1;31mTypeError\u001b[0m                                 Traceback (most recent call last)",
      "\u001b[1;32m<ipython-input-22-906cd1dfef2f>\u001b[0m in \u001b[0;36m<module>\u001b[1;34m\u001b[0m\n\u001b[1;32m----> 1\u001b[1;33m \u001b[0mdqn\u001b[0m \u001b[1;33m=\u001b[0m \u001b[0mbuild_agent\u001b[0m\u001b[1;33m(\u001b[0m\u001b[0mmodel\u001b[0m\u001b[1;33m,\u001b[0m \u001b[1;36m4\u001b[0m\u001b[1;33m)\u001b[0m\u001b[1;33m\u001b[0m\u001b[1;33m\u001b[0m\u001b[0m\n\u001b[0m\u001b[0;32m      2\u001b[0m \u001b[0mdqn\u001b[0m\u001b[1;33m.\u001b[0m\u001b[0mcompile\u001b[0m\u001b[1;33m(\u001b[0m\u001b[0mAdam\u001b[0m\u001b[1;33m(\u001b[0m\u001b[0mlr\u001b[0m\u001b[1;33m=\u001b[0m\u001b[1;36m1e-3\u001b[0m\u001b[1;33m)\u001b[0m\u001b[1;33m,\u001b[0m \u001b[0mmetrics\u001b[0m\u001b[1;33m=\u001b[0m\u001b[1;33m[\u001b[0m\u001b[1;34m'mae'\u001b[0m\u001b[1;33m]\u001b[0m\u001b[1;33m)\u001b[0m\u001b[1;33m\u001b[0m\u001b[1;33m\u001b[0m\u001b[0m\n\u001b[0;32m      3\u001b[0m \u001b[0mdqn\u001b[0m\u001b[1;33m.\u001b[0m\u001b[0mfit\u001b[0m\u001b[1;33m(\u001b[0m\u001b[0menv\u001b[0m\u001b[1;33m,\u001b[0m \u001b[0mnb_steps\u001b[0m\u001b[1;33m=\u001b[0m\u001b[1;36m50000\u001b[0m\u001b[1;33m,\u001b[0m \u001b[0mvisualize\u001b[0m\u001b[1;33m=\u001b[0m\u001b[1;32mFalse\u001b[0m\u001b[1;33m,\u001b[0m \u001b[0mverbose\u001b[0m\u001b[1;33m=\u001b[0m\u001b[1;36m1\u001b[0m\u001b[1;33m)\u001b[0m\u001b[1;33m\u001b[0m\u001b[1;33m\u001b[0m\u001b[0m\n\u001b[0;32m      4\u001b[0m \u001b[1;33m\u001b[0m\u001b[0m\n",
      "\u001b[1;32m<ipython-input-21-a3483ebbc2c0>\u001b[0m in \u001b[0;36mbuild_agent\u001b[1;34m(model, actions)\u001b[0m\n\u001b[0;32m      2\u001b[0m     \u001b[0mpolicy\u001b[0m \u001b[1;33m=\u001b[0m \u001b[0mBoltzmannQPolicy\u001b[0m\u001b[1;33m(\u001b[0m\u001b[1;33m)\u001b[0m\u001b[1;33m\u001b[0m\u001b[1;33m\u001b[0m\u001b[0m\n\u001b[0;32m      3\u001b[0m     \u001b[0mmemory\u001b[0m \u001b[1;33m=\u001b[0m \u001b[0mSequentialMemory\u001b[0m\u001b[1;33m(\u001b[0m\u001b[0mlimit\u001b[0m\u001b[1;33m=\u001b[0m\u001b[1;36m50000\u001b[0m\u001b[1;33m,\u001b[0m \u001b[0mwindow_length\u001b[0m\u001b[1;33m=\u001b[0m\u001b[1;36m1\u001b[0m\u001b[1;33m)\u001b[0m\u001b[1;33m\u001b[0m\u001b[1;33m\u001b[0m\u001b[0m\n\u001b[1;32m----> 4\u001b[1;33m     dqn = DQNAgent(model=model, memory=memory, policy=policy, \n\u001b[0m\u001b[0;32m      5\u001b[0m                   nb_actions=4, nb_steps_warmup=10, target_model_update=1e-2)\n\u001b[0;32m      6\u001b[0m     \u001b[1;32mreturn\u001b[0m \u001b[0mdqn\u001b[0m\u001b[1;33m\u001b[0m\u001b[1;33m\u001b[0m\u001b[0m\n",
      "\u001b[1;32m~\\AppData\\Roaming\\Python\\Python38\\site-packages\\rl\\agents\\dqn.py\u001b[0m in \u001b[0;36m__init__\u001b[1;34m(self, model, policy, test_policy, enable_double_dqn, enable_dueling_network, dueling_type, *args, **kwargs)\u001b[0m\n\u001b[0;32m    106\u001b[0m \u001b[1;33m\u001b[0m\u001b[0m\n\u001b[0;32m    107\u001b[0m         \u001b[1;31m# Validate (important) input.\u001b[0m\u001b[1;33m\u001b[0m\u001b[1;33m\u001b[0m\u001b[1;33m\u001b[0m\u001b[0m\n\u001b[1;32m--> 108\u001b[1;33m         \u001b[1;32mif\u001b[0m \u001b[0mhasattr\u001b[0m\u001b[1;33m(\u001b[0m\u001b[0mmodel\u001b[0m\u001b[1;33m.\u001b[0m\u001b[0moutput\u001b[0m\u001b[1;33m,\u001b[0m \u001b[1;34m'__len__'\u001b[0m\u001b[1;33m)\u001b[0m \u001b[1;32mand\u001b[0m \u001b[0mlen\u001b[0m\u001b[1;33m(\u001b[0m\u001b[0mmodel\u001b[0m\u001b[1;33m.\u001b[0m\u001b[0moutput\u001b[0m\u001b[1;33m)\u001b[0m \u001b[1;33m>\u001b[0m \u001b[1;36m1\u001b[0m\u001b[1;33m:\u001b[0m\u001b[1;33m\u001b[0m\u001b[1;33m\u001b[0m\u001b[0m\n\u001b[0m\u001b[0;32m    109\u001b[0m             \u001b[1;32mraise\u001b[0m \u001b[0mValueError\u001b[0m\u001b[1;33m(\u001b[0m\u001b[1;34m'Model \"{}\" has more than one output. DQN expects a model that has a single output.'\u001b[0m\u001b[1;33m.\u001b[0m\u001b[0mformat\u001b[0m\u001b[1;33m(\u001b[0m\u001b[0mmodel\u001b[0m\u001b[1;33m)\u001b[0m\u001b[1;33m)\u001b[0m\u001b[1;33m\u001b[0m\u001b[1;33m\u001b[0m\u001b[0m\n\u001b[0;32m    110\u001b[0m         \u001b[1;32mif\u001b[0m \u001b[0mmodel\u001b[0m\u001b[1;33m.\u001b[0m\u001b[0moutput\u001b[0m\u001b[1;33m.\u001b[0m\u001b[0m_keras_shape\u001b[0m \u001b[1;33m!=\u001b[0m \u001b[1;33m(\u001b[0m\u001b[1;32mNone\u001b[0m\u001b[1;33m,\u001b[0m \u001b[0mself\u001b[0m\u001b[1;33m.\u001b[0m\u001b[0mnb_actions\u001b[0m\u001b[1;33m)\u001b[0m\u001b[1;33m:\u001b[0m\u001b[1;33m\u001b[0m\u001b[1;33m\u001b[0m\u001b[0m\n",
      "\u001b[1;32m~\\AppData\\Roaming\\Python\\Python38\\site-packages\\keras\\engine\\keras_tensor.py\u001b[0m in \u001b[0;36m__len__\u001b[1;34m(self)\u001b[0m\n\u001b[0;32m    219\u001b[0m \u001b[1;33m\u001b[0m\u001b[0m\n\u001b[0;32m    220\u001b[0m   \u001b[1;32mdef\u001b[0m \u001b[0m__len__\u001b[0m\u001b[1;33m(\u001b[0m\u001b[0mself\u001b[0m\u001b[1;33m)\u001b[0m\u001b[1;33m:\u001b[0m\u001b[1;33m\u001b[0m\u001b[1;33m\u001b[0m\u001b[0m\n\u001b[1;32m--> 221\u001b[1;33m     raise TypeError('Keras symbolic inputs/outputs do not '\n\u001b[0m\u001b[0;32m    222\u001b[0m                     \u001b[1;34m'implement `__len__`. You may be '\u001b[0m\u001b[1;33m\u001b[0m\u001b[1;33m\u001b[0m\u001b[0m\n\u001b[0;32m    223\u001b[0m                     \u001b[1;34m'trying to pass Keras symbolic inputs/outputs '\u001b[0m\u001b[1;33m\u001b[0m\u001b[1;33m\u001b[0m\u001b[0m\n",
      "\u001b[1;31mTypeError\u001b[0m: Keras symbolic inputs/outputs do not implement `__len__`. You may be trying to pass Keras symbolic inputs/outputs to a TF API that does not register dispatching, preventing Keras from automatically converting the API call to a lambda layer in the Functional Model. This error will also get raised if you try asserting a symbolic input/output directly."
     ]
    }
   ],
   "source": [
    "\n",
    "\n",
    "dqn = build_agent(model, 4)\n",
    "dqn.compile(Adam(lr=1e-3), metrics=['mae'])\n",
    "dqn.fit(env, nb_steps=50000, visualize=False, verbose=1)\n",
    "\n"
   ]
  },
  {
   "cell_type": "code",
   "execution_count": null,
   "metadata": {},
   "outputs": [],
   "source": [
    "scores = dqn.test(env, nb_episodes=100, visualize=False)\n",
    "print(np.mean(scores.history['episode_reward']))"
   ]
  },
  {
   "cell_type": "code",
   "execution_count": null,
   "metadata": {},
   "outputs": [],
   "source": []
  },
  {
   "cell_type": "code",
   "execution_count": null,
   "metadata": {},
   "outputs": [],
   "source": []
  },
  {
   "cell_type": "code",
   "execution_count": null,
   "metadata": {},
   "outputs": [],
   "source": []
  },
  {
   "cell_type": "code",
   "execution_count": 25,
   "metadata": {},
   "outputs": [
    {
     "ename": "TypeError",
     "evalue": "Keras symbolic inputs/outputs do not implement `__len__`. You may be trying to pass Keras symbolic inputs/outputs to a TF API that does not register dispatching, preventing Keras from automatically converting the API call to a lambda layer in the Functional Model. This error will also get raised if you try asserting a symbolic input/output directly.",
     "output_type": "error",
     "traceback": [
      "\u001b[1;31m---------------------------------------------------------------------------\u001b[0m",
      "\u001b[1;31mTypeError\u001b[0m                                 Traceback (most recent call last)",
      "\u001b[1;32m<ipython-input-25-957a4f938ad2>\u001b[0m in \u001b[0;36m<module>\u001b[1;34m\u001b[0m\n\u001b[0;32m     85\u001b[0m \u001b[1;33m\u001b[0m\u001b[0m\n\u001b[0;32m     86\u001b[0m \u001b[0mmodel\u001b[0m \u001b[1;33m=\u001b[0m \u001b[0mbuild_model\u001b[0m\u001b[1;33m(\u001b[0m\u001b[0mstates\u001b[0m\u001b[1;33m,\u001b[0m \u001b[0mactions\u001b[0m\u001b[1;33m)\u001b[0m\u001b[1;33m\u001b[0m\u001b[1;33m\u001b[0m\u001b[0m\n\u001b[1;32m---> 87\u001b[1;33m \u001b[0mDQN\u001b[0m \u001b[1;33m=\u001b[0m \u001b[0mbuildAgent\u001b[0m\u001b[1;33m(\u001b[0m\u001b[0mmodel\u001b[0m\u001b[1;33m,\u001b[0m \u001b[0mactions\u001b[0m\u001b[1;33m)\u001b[0m\u001b[1;33m\u001b[0m\u001b[1;33m\u001b[0m\u001b[0m\n\u001b[0m\u001b[0;32m     88\u001b[0m \u001b[1;33m\u001b[0m\u001b[0m\n\u001b[0;32m     89\u001b[0m \u001b[0mDQN\u001b[0m\u001b[1;33m.\u001b[0m\u001b[0mcompile\u001b[0m\u001b[1;33m(\u001b[0m\u001b[0mtf\u001b[0m\u001b[1;33m.\u001b[0m\u001b[0mkeras\u001b[0m\u001b[1;33m.\u001b[0m\u001b[0moptimizers\u001b[0m\u001b[1;33m.\u001b[0m\u001b[0mAdam\u001b[0m\u001b[1;33m(\u001b[0m\u001b[0mlearning_rate\u001b[0m\u001b[1;33m=\u001b[0m\u001b[1;36m1e-3\u001b[0m\u001b[1;33m)\u001b[0m\u001b[1;33m,\u001b[0m \u001b[0mmetrics\u001b[0m\u001b[1;33m=\u001b[0m\u001b[1;33m[\u001b[0m\u001b[1;34m'mae'\u001b[0m\u001b[1;33m]\u001b[0m\u001b[1;33m)\u001b[0m\u001b[1;33m\u001b[0m\u001b[1;33m\u001b[0m\u001b[0m\n",
      "\u001b[1;32m<ipython-input-25-957a4f938ad2>\u001b[0m in \u001b[0;36mbuildAgent\u001b[1;34m(model, actions)\u001b[0m\n\u001b[0;32m     79\u001b[0m     \u001b[0mpolicy\u001b[0m \u001b[1;33m=\u001b[0m \u001b[0mBoltzmannQPolicy\u001b[0m\u001b[1;33m(\u001b[0m\u001b[1;33m)\u001b[0m\u001b[1;33m\u001b[0m\u001b[1;33m\u001b[0m\u001b[0m\n\u001b[0;32m     80\u001b[0m     \u001b[0mmemory\u001b[0m \u001b[1;33m=\u001b[0m \u001b[0mSequentialMemory\u001b[0m\u001b[1;33m(\u001b[0m\u001b[0mlimit\u001b[0m\u001b[1;33m=\u001b[0m\u001b[1;36m50000\u001b[0m\u001b[1;33m,\u001b[0m \u001b[0mwindow_length\u001b[0m\u001b[1;33m=\u001b[0m\u001b[1;36m1\u001b[0m\u001b[1;33m)\u001b[0m\u001b[1;33m\u001b[0m\u001b[1;33m\u001b[0m\u001b[0m\n\u001b[1;32m---> 81\u001b[1;33m     dqn = DQNAgent(model, memory=memory, policy=policy, nb_actions=actions, nb_steps_warmup=10,\n\u001b[0m\u001b[0;32m     82\u001b[0m                    target_model_update=1e-2)\n\u001b[0;32m     83\u001b[0m     \u001b[1;32mreturn\u001b[0m \u001b[0mdqn\u001b[0m\u001b[1;33m\u001b[0m\u001b[1;33m\u001b[0m\u001b[0m\n",
      "\u001b[1;32m~\\AppData\\Roaming\\Python\\Python38\\site-packages\\rl\\agents\\dqn.py\u001b[0m in \u001b[0;36m__init__\u001b[1;34m(self, model, policy, test_policy, enable_double_dqn, enable_dueling_network, dueling_type, *args, **kwargs)\u001b[0m\n\u001b[0;32m    106\u001b[0m \u001b[1;33m\u001b[0m\u001b[0m\n\u001b[0;32m    107\u001b[0m         \u001b[1;31m# Validate (important) input.\u001b[0m\u001b[1;33m\u001b[0m\u001b[1;33m\u001b[0m\u001b[1;33m\u001b[0m\u001b[0m\n\u001b[1;32m--> 108\u001b[1;33m         \u001b[1;32mif\u001b[0m \u001b[0mhasattr\u001b[0m\u001b[1;33m(\u001b[0m\u001b[0mmodel\u001b[0m\u001b[1;33m.\u001b[0m\u001b[0moutput\u001b[0m\u001b[1;33m,\u001b[0m \u001b[1;34m'__len__'\u001b[0m\u001b[1;33m)\u001b[0m \u001b[1;32mand\u001b[0m \u001b[0mlen\u001b[0m\u001b[1;33m(\u001b[0m\u001b[0mmodel\u001b[0m\u001b[1;33m.\u001b[0m\u001b[0moutput\u001b[0m\u001b[1;33m)\u001b[0m \u001b[1;33m>\u001b[0m \u001b[1;36m1\u001b[0m\u001b[1;33m:\u001b[0m\u001b[1;33m\u001b[0m\u001b[1;33m\u001b[0m\u001b[0m\n\u001b[0m\u001b[0;32m    109\u001b[0m             \u001b[1;32mraise\u001b[0m \u001b[0mValueError\u001b[0m\u001b[1;33m(\u001b[0m\u001b[1;34m'Model \"{}\" has more than one output. DQN expects a model that has a single output.'\u001b[0m\u001b[1;33m.\u001b[0m\u001b[0mformat\u001b[0m\u001b[1;33m(\u001b[0m\u001b[0mmodel\u001b[0m\u001b[1;33m)\u001b[0m\u001b[1;33m)\u001b[0m\u001b[1;33m\u001b[0m\u001b[1;33m\u001b[0m\u001b[0m\n\u001b[0;32m    110\u001b[0m         \u001b[1;32mif\u001b[0m \u001b[0mmodel\u001b[0m\u001b[1;33m.\u001b[0m\u001b[0moutput\u001b[0m\u001b[1;33m.\u001b[0m\u001b[0m_keras_shape\u001b[0m \u001b[1;33m!=\u001b[0m \u001b[1;33m(\u001b[0m\u001b[1;32mNone\u001b[0m\u001b[1;33m,\u001b[0m \u001b[0mself\u001b[0m\u001b[1;33m.\u001b[0m\u001b[0mnb_actions\u001b[0m\u001b[1;33m)\u001b[0m\u001b[1;33m:\u001b[0m\u001b[1;33m\u001b[0m\u001b[1;33m\u001b[0m\u001b[0m\n",
      "\u001b[1;32m~\\AppData\\Roaming\\Python\\Python38\\site-packages\\keras\\engine\\keras_tensor.py\u001b[0m in \u001b[0;36m__len__\u001b[1;34m(self)\u001b[0m\n\u001b[0;32m    219\u001b[0m \u001b[1;33m\u001b[0m\u001b[0m\n\u001b[0;32m    220\u001b[0m   \u001b[1;32mdef\u001b[0m \u001b[0m__len__\u001b[0m\u001b[1;33m(\u001b[0m\u001b[0mself\u001b[0m\u001b[1;33m)\u001b[0m\u001b[1;33m:\u001b[0m\u001b[1;33m\u001b[0m\u001b[1;33m\u001b[0m\u001b[0m\n\u001b[1;32m--> 221\u001b[1;33m     raise TypeError('Keras symbolic inputs/outputs do not '\n\u001b[0m\u001b[0;32m    222\u001b[0m                     \u001b[1;34m'implement `__len__`. You may be '\u001b[0m\u001b[1;33m\u001b[0m\u001b[1;33m\u001b[0m\u001b[0m\n\u001b[0;32m    223\u001b[0m                     \u001b[1;34m'trying to pass Keras symbolic inputs/outputs '\u001b[0m\u001b[1;33m\u001b[0m\u001b[1;33m\u001b[0m\u001b[0m\n",
      "\u001b[1;31mTypeError\u001b[0m: Keras symbolic inputs/outputs do not implement `__len__`. You may be trying to pass Keras symbolic inputs/outputs to a TF API that does not register dispatching, preventing Keras from automatically converting the API call to a lambda layer in the Functional Model. This error will also get raised if you try asserting a symbolic input/output directly."
     ]
    }
   ],
   "source": []
  },
  {
   "cell_type": "code",
   "execution_count": null,
   "metadata": {},
   "outputs": [],
   "source": []
  }
 ],
 "metadata": {
  "kernelspec": {
   "display_name": "Python 3",
   "language": "python",
   "name": "python3"
  },
  "language_info": {
   "codemirror_mode": {
    "name": "ipython",
    "version": 3
   },
   "file_extension": ".py",
   "mimetype": "text/x-python",
   "name": "python",
   "nbconvert_exporter": "python",
   "pygments_lexer": "ipython3",
   "version": "3.8.8"
  }
 },
 "nbformat": 4,
 "nbformat_minor": 2
}
